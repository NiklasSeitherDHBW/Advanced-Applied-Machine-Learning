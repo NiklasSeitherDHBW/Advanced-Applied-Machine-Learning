{
 "cells": [
  {
   "cell_type": "code",
   "execution_count": 1,
   "metadata": {},
   "outputs": [],
   "source": [
    "import tensorflow as tf\n",
    "import pandas as pd\n",
    "import numpy as np\n",
    "from sklearn.model_selection import train_test_split\n",
    "from sklearn.preprocessing import StandardScaler, OneHotEncoder\n",
    "from sklearn.compose import ColumnTransformer\n",
    "from sklearn.pipeline import Pipeline\n",
    "from tensorflow.keras.utils import to_categorical\n",
    "from tensorflow.keras.preprocessing.image import ImageDataGenerator\n",
    "from tensorflow.keras.models import Model\n",
    "from tensorflow.keras.layers import (\n",
    "    Input, Dense, Flatten, Conv2D, MaxPooling2D, Dropout, concatenate\n",
    ")\n",
    "from tensorflow.keras.preprocessing.image import load_img, img_to_array"
   ]
  },
  {
   "cell_type": "code",
   "execution_count": 2,
   "metadata": {},
   "outputs": [
    {
     "data": {
      "text/html": [
       "<div>\n",
       "<style scoped>\n",
       "    .dataframe tbody tr th:only-of-type {\n",
       "        vertical-align: middle;\n",
       "    }\n",
       "\n",
       "    .dataframe tbody tr th {\n",
       "        vertical-align: top;\n",
       "    }\n",
       "\n",
       "    .dataframe thead th {\n",
       "        text-align: right;\n",
       "    }\n",
       "</style>\n",
       "<table border=\"1\" class=\"dataframe\">\n",
       "  <thead>\n",
       "    <tr style=\"text-align: right;\">\n",
       "      <th></th>\n",
       "      <th>image_id</th>\n",
       "      <th>street</th>\n",
       "      <th>citi</th>\n",
       "      <th>n_citi</th>\n",
       "      <th>bed</th>\n",
       "      <th>bath</th>\n",
       "      <th>sqft</th>\n",
       "      <th>price</th>\n",
       "    </tr>\n",
       "  </thead>\n",
       "  <tbody>\n",
       "    <tr>\n",
       "      <th>0</th>\n",
       "      <td>0</td>\n",
       "      <td>1317 Van Buren Avenue</td>\n",
       "      <td>Salton City, CA</td>\n",
       "      <td>317</td>\n",
       "      <td>3</td>\n",
       "      <td>2.0</td>\n",
       "      <td>1560</td>\n",
       "      <td>201900</td>\n",
       "    </tr>\n",
       "    <tr>\n",
       "      <th>1</th>\n",
       "      <td>1</td>\n",
       "      <td>124 C Street W</td>\n",
       "      <td>Brawley, CA</td>\n",
       "      <td>48</td>\n",
       "      <td>3</td>\n",
       "      <td>2.0</td>\n",
       "      <td>713</td>\n",
       "      <td>228500</td>\n",
       "    </tr>\n",
       "    <tr>\n",
       "      <th>2</th>\n",
       "      <td>2</td>\n",
       "      <td>2304 Clark Road</td>\n",
       "      <td>Imperial, CA</td>\n",
       "      <td>152</td>\n",
       "      <td>3</td>\n",
       "      <td>1.0</td>\n",
       "      <td>800</td>\n",
       "      <td>273950</td>\n",
       "    </tr>\n",
       "    <tr>\n",
       "      <th>3</th>\n",
       "      <td>3</td>\n",
       "      <td>755 Brawley Avenue</td>\n",
       "      <td>Brawley, CA</td>\n",
       "      <td>48</td>\n",
       "      <td>3</td>\n",
       "      <td>1.0</td>\n",
       "      <td>1082</td>\n",
       "      <td>350000</td>\n",
       "    </tr>\n",
       "    <tr>\n",
       "      <th>4</th>\n",
       "      <td>4</td>\n",
       "      <td>2207 R Carrillo Court</td>\n",
       "      <td>Calexico, CA</td>\n",
       "      <td>55</td>\n",
       "      <td>4</td>\n",
       "      <td>3.0</td>\n",
       "      <td>2547</td>\n",
       "      <td>385100</td>\n",
       "    </tr>\n",
       "  </tbody>\n",
       "</table>\n",
       "</div>"
      ],
      "text/plain": [
       "   image_id                 street             citi  n_citi  bed  bath  sqft  \\\n",
       "0         0  1317 Van Buren Avenue  Salton City, CA     317    3   2.0  1560   \n",
       "1         1         124 C Street W      Brawley, CA      48    3   2.0   713   \n",
       "2         2        2304 Clark Road     Imperial, CA     152    3   1.0   800   \n",
       "3         3     755 Brawley Avenue      Brawley, CA      48    3   1.0  1082   \n",
       "4         4  2207 R Carrillo Court     Calexico, CA      55    4   3.0  2547   \n",
       "\n",
       "    price  \n",
       "0  201900  \n",
       "1  228500  \n",
       "2  273950  \n",
       "3  350000  \n",
       "4  385100  "
      ]
     },
     "execution_count": 2,
     "metadata": {},
     "output_type": "execute_result"
    }
   ],
   "source": [
    "df = pd.read_csv('data/socal2.csv')\n",
    "df.head()"
   ]
  },
  {
   "cell_type": "code",
   "execution_count": 3,
   "metadata": {},
   "outputs": [],
   "source": [
    "df = df[:4000]"
   ]
  },
  {
   "cell_type": "code",
   "execution_count": 4,
   "metadata": {},
   "outputs": [],
   "source": [
    "tabular_features = ['n_citi', 'bed', 'bath', 'sqft']\n",
    "target = 'price'"
   ]
  },
  {
   "cell_type": "code",
   "execution_count": 5,
   "metadata": {},
   "outputs": [],
   "source": [
    "X_tabular = df[tabular_features]\n",
    "y = df[target]"
   ]
  },
  {
   "cell_type": "code",
   "execution_count": 6,
   "metadata": {},
   "outputs": [],
   "source": [
    "scaler = StandardScaler()\n",
    "X_tabular_scaled = scaler.fit_transform(X_tabular)"
   ]
  },
  {
   "cell_type": "code",
   "execution_count": 7,
   "metadata": {},
   "outputs": [],
   "source": [
    "def load_images(image_ids, img_size=(224, 224)):\n",
    "    images = []\n",
    "    for image_id in image_ids:\n",
    "        img_path = f'data/socal_pics/{image_id}.jpg'\n",
    "        img = load_img(img_path, target_size=img_size)\n",
    "        img = img_to_array(img) / 255.0  # Normalize pixel values\n",
    "        images.append(img)\n",
    "    return np.array(images)\n",
    "\n",
    "X_images = load_images(df['image_id'])"
   ]
  },
  {
   "cell_type": "code",
   "execution_count": 8,
   "metadata": {},
   "outputs": [],
   "source": [
    "X_train_images, X_test_images, X_train_tabular, X_test_tabular, y_train, y_test = train_test_split(\n",
    "    X_images, X_tabular_scaled, y, test_size=0.2, random_state=42\n",
    ")"
   ]
  },
  {
   "cell_type": "code",
   "execution_count": 9,
   "metadata": {},
   "outputs": [],
   "source": [
    "# Image branch (CNN)\n",
    "image_input = Input(shape=(224, 224, 3), name=\"image_input\")\n",
    "x = Conv2D(32, (3, 3), activation=\"relu\")(image_input)\n",
    "x = MaxPooling2D((2, 2))(x)\n",
    "x = Conv2D(64, (3, 3), activation=\"relu\")(x)\n",
    "x = MaxPooling2D((2, 2))(x)\n",
    "x = Flatten()(x)\n",
    "x = Dense(128, activation=\"relu\")(x)\n",
    "x = Dropout(0.5)(x)\n",
    "image_branch = Dense(64, activation=\"relu\")(x)"
   ]
  },
  {
   "cell_type": "code",
   "execution_count": 10,
   "metadata": {},
   "outputs": [],
   "source": [
    "# Tabular data branch (fully connected network)\n",
    "tabular_input = Input(shape=(len(tabular_features),), name=\"tabular_input\")\n",
    "y = Dense(128, activation=\"relu\")(tabular_input)\n",
    "y = Dropout(0.5)(y)\n",
    "y = Dense(64, activation=\"relu\")(y)"
   ]
  },
  {
   "cell_type": "code",
   "execution_count": 11,
   "metadata": {},
   "outputs": [],
   "source": [
    "# Combine both branches\n",
    "combined = concatenate([image_branch, y])\n",
    "z = Dense(128, activation=\"relu\")(combined)\n",
    "z = Dropout(0.5)(z)\n",
    "z = Dense(1, activation=\"linear\")(z)  # Output layer for price prediction"
   ]
  },
  {
   "cell_type": "code",
   "execution_count": 12,
   "metadata": {},
   "outputs": [
    {
     "name": "stdout",
     "output_type": "stream",
     "text": [
      "Model: \"model\"\n",
      "__________________________________________________________________________________________________\n",
      " Layer (type)                   Output Shape         Param #     Connected to                     \n",
      "==================================================================================================\n",
      " image_input (InputLayer)       [(None, 224, 224, 3  0           []                               \n",
      "                                )]                                                                \n",
      "                                                                                                  \n",
      " conv2d (Conv2D)                (None, 222, 222, 32  896         ['image_input[0][0]']            \n",
      "                                )                                                                 \n",
      "                                                                                                  \n",
      " max_pooling2d (MaxPooling2D)   (None, 111, 111, 32  0           ['conv2d[0][0]']                 \n",
      "                                )                                                                 \n",
      "                                                                                                  \n",
      " conv2d_1 (Conv2D)              (None, 109, 109, 64  18496       ['max_pooling2d[0][0]']          \n",
      "                                )                                                                 \n",
      "                                                                                                  \n",
      " max_pooling2d_1 (MaxPooling2D)  (None, 54, 54, 64)  0           ['conv2d_1[0][0]']               \n",
      "                                                                                                  \n",
      " flatten (Flatten)              (None, 186624)       0           ['max_pooling2d_1[0][0]']        \n",
      "                                                                                                  \n",
      " tabular_input (InputLayer)     [(None, 4)]          0           []                               \n",
      "                                                                                                  \n",
      " dense (Dense)                  (None, 128)          23888000    ['flatten[0][0]']                \n",
      "                                                                                                  \n",
      " dense_2 (Dense)                (None, 128)          640         ['tabular_input[0][0]']          \n",
      "                                                                                                  \n",
      " dropout (Dropout)              (None, 128)          0           ['dense[0][0]']                  \n",
      "                                                                                                  \n",
      " dropout_1 (Dropout)            (None, 128)          0           ['dense_2[0][0]']                \n",
      "                                                                                                  \n",
      " dense_1 (Dense)                (None, 64)           8256        ['dropout[0][0]']                \n",
      "                                                                                                  \n",
      " dense_3 (Dense)                (None, 64)           8256        ['dropout_1[0][0]']              \n",
      "                                                                                                  \n",
      " concatenate (Concatenate)      (None, 128)          0           ['dense_1[0][0]',                \n",
      "                                                                  'dense_3[0][0]']                \n",
      "                                                                                                  \n",
      " dense_4 (Dense)                (None, 128)          16512       ['concatenate[0][0]']            \n",
      "                                                                                                  \n",
      " dropout_2 (Dropout)            (None, 128)          0           ['dense_4[0][0]']                \n",
      "                                                                                                  \n",
      " dense_5 (Dense)                (None, 1)            129         ['dropout_2[0][0]']              \n",
      "                                                                                                  \n",
      "==================================================================================================\n",
      "Total params: 23,941,185\n",
      "Trainable params: 23,941,185\n",
      "Non-trainable params: 0\n",
      "__________________________________________________________________________________________________\n"
     ]
    }
   ],
   "source": [
    "model = Model(inputs=[image_input, tabular_input], outputs=z)\n",
    "model.compile(optimizer=\"adam\", loss=\"mean_squared_error\", metrics=[\"mae\"])\n",
    "model.summary()"
   ]
  },
  {
   "cell_type": "code",
   "execution_count": 13,
   "metadata": {},
   "outputs": [
    {
     "name": "stdout",
     "output_type": "stream",
     "text": [
      "Epoch 1/100\n",
      "200/200 [==============================] - 7s 25ms/step - loss: 277001142272.0000 - mae: 390596.2812 - val_loss: 183662968832.0000 - val_mae: 344920.1875\n",
      "Epoch 2/100\n",
      "200/200 [==============================] - 5s 23ms/step - loss: 204229935104.0000 - mae: 333919.1875 - val_loss: 170781523968.0000 - val_mae: 288047.5938\n",
      "Epoch 3/100\n",
      "200/200 [==============================] - 5s 23ms/step - loss: 184993005568.0000 - mae: 320409.7188 - val_loss: 163394437120.0000 - val_mae: 277640.3750\n",
      "Epoch 4/100\n",
      "200/200 [==============================] - 5s 23ms/step - loss: 175898984448.0000 - mae: 311173.6250 - val_loss: 144077193216.0000 - val_mae: 267260.7500\n",
      "Epoch 5/100\n",
      "200/200 [==============================] - 5s 23ms/step - loss: 155884732416.0000 - mae: 293487.5938 - val_loss: 128114745344.0000 - val_mae: 263846.0000\n",
      "Epoch 6/100\n",
      "200/200 [==============================] - 4s 22ms/step - loss: 143478177792.0000 - mae: 277953.0312 - val_loss: 136623718400.0000 - val_mae: 260892.0625\n",
      "Epoch 7/100\n",
      "200/200 [==============================] - 4s 22ms/step - loss: 142180990976.0000 - mae: 277824.3750 - val_loss: 123319623680.0000 - val_mae: 253933.7656\n",
      "Epoch 8/100\n",
      "200/200 [==============================] - 4s 22ms/step - loss: 140957908992.0000 - mae: 277885.4688 - val_loss: 155997716480.0000 - val_mae: 282764.6875\n",
      "Epoch 9/100\n",
      "200/200 [==============================] - 4s 22ms/step - loss: 139680464896.0000 - mae: 275062.7812 - val_loss: 132426211328.0000 - val_mae: 260075.7812\n",
      "Epoch 10/100\n",
      "200/200 [==============================] - 4s 22ms/step - loss: 135142096896.0000 - mae: 269451.4688 - val_loss: 139433443328.0000 - val_mae: 267381.6250\n",
      "Epoch 11/100\n",
      "200/200 [==============================] - 4s 22ms/step - loss: 132996653056.0000 - mae: 268096.0312 - val_loss: 130503860224.0000 - val_mae: 259032.0000\n",
      "Epoch 12/100\n",
      "200/200 [==============================] - 5s 23ms/step - loss: 131793879040.0000 - mae: 265802.5000 - val_loss: 131080994816.0000 - val_mae: 259861.4219\n",
      "Epoch 13/100\n",
      "200/200 [==============================] - 4s 22ms/step - loss: 135424040960.0000 - mae: 271289.4062 - val_loss: 128535314432.0000 - val_mae: 257876.9844\n",
      "Epoch 14/100\n",
      "200/200 [==============================] - 4s 22ms/step - loss: 130527428608.0000 - mae: 264159.8750 - val_loss: 143475900416.0000 - val_mae: 273576.3750\n",
      "Epoch 15/100\n",
      "200/200 [==============================] - 4s 21ms/step - loss: 133099233280.0000 - mae: 265636.8438 - val_loss: 151185899520.0000 - val_mae: 281191.6250\n",
      "Epoch 16/100\n",
      "200/200 [==============================] - 4s 22ms/step - loss: 127467806720.0000 - mae: 262829.2500 - val_loss: 152847187968.0000 - val_mae: 283583.7812\n",
      "Epoch 17/100\n",
      "200/200 [==============================] - 4s 22ms/step - loss: 127303442432.0000 - mae: 260174.7344 - val_loss: 140822478848.0000 - val_mae: 271118.2500\n",
      "Epoch 18/100\n",
      "200/200 [==============================] - 4s 22ms/step - loss: 127903956992.0000 - mae: 260812.0938 - val_loss: 165437341696.0000 - val_mae: 296836.8750\n",
      "Epoch 19/100\n",
      "200/200 [==============================] - 4s 22ms/step - loss: 128417857536.0000 - mae: 264144.3125 - val_loss: 172497027072.0000 - val_mae: 304978.2188\n",
      "Epoch 20/100\n",
      "200/200 [==============================] - 4s 22ms/step - loss: 124881100800.0000 - mae: 258478.9062 - val_loss: 150689087488.0000 - val_mae: 282144.9062\n",
      "Epoch 21/100\n",
      "200/200 [==============================] - 4s 22ms/step - loss: 123807309824.0000 - mae: 257249.3438 - val_loss: 165206884352.0000 - val_mae: 298460.0312\n",
      "Epoch 22/100\n",
      "200/200 [==============================] - 4s 22ms/step - loss: 121793216512.0000 - mae: 256960.6406 - val_loss: 152353587200.0000 - val_mae: 284568.3750\n",
      "Epoch 23/100\n",
      "200/200 [==============================] - 4s 22ms/step - loss: 122140942336.0000 - mae: 256694.0469 - val_loss: 144232988672.0000 - val_mae: 276471.0312\n",
      "Epoch 24/100\n",
      "200/200 [==============================] - 4s 22ms/step - loss: 120971509760.0000 - mae: 255222.5781 - val_loss: 174179876864.0000 - val_mae: 308814.9062\n",
      "Epoch 25/100\n",
      "200/200 [==============================] - 4s 21ms/step - loss: 122607403008.0000 - mae: 255628.8438 - val_loss: 165418467328.0000 - val_mae: 299787.8438\n",
      "Epoch 26/100\n",
      "200/200 [==============================] - 4s 21ms/step - loss: 122382516224.0000 - mae: 256798.7812 - val_loss: 151131979776.0000 - val_mae: 284839.1250\n",
      "Epoch 27/100\n",
      "200/200 [==============================] - 4s 21ms/step - loss: 120831647744.0000 - mae: 256513.2812 - val_loss: 154196606976.0000 - val_mae: 288567.1250\n",
      "Epoch 28/100\n",
      "200/200 [==============================] - 4s 22ms/step - loss: 118925557760.0000 - mae: 255918.6562 - val_loss: 152138432512.0000 - val_mae: 286750.9375\n",
      "Epoch 29/100\n",
      "200/200 [==============================] - 4s 22ms/step - loss: 118528811008.0000 - mae: 254898.6250 - val_loss: 159602999296.0000 - val_mae: 295579.2500\n",
      "Epoch 30/100\n",
      "200/200 [==============================] - 4s 22ms/step - loss: 116794523648.0000 - mae: 251251.2344 - val_loss: 151819190272.0000 - val_mae: 286697.8438\n",
      "Epoch 31/100\n",
      "200/200 [==============================] - 4s 21ms/step - loss: 113703878656.0000 - mae: 249372.2656 - val_loss: 167472234496.0000 - val_mae: 304006.4375\n",
      "Epoch 32/100\n",
      "200/200 [==============================] - 5s 23ms/step - loss: 114991497216.0000 - mae: 253026.3750 - val_loss: 128142499840.0000 - val_mae: 260977.3750\n",
      "Epoch 33/100\n",
      "200/200 [==============================] - 4s 22ms/step - loss: 116828291072.0000 - mae: 254136.0000 - val_loss: 177514496000.0000 - val_mae: 315172.8750\n",
      "Epoch 34/100\n",
      "200/200 [==============================] - 4s 22ms/step - loss: 112761135104.0000 - mae: 249491.5000 - val_loss: 144220635136.0000 - val_mae: 279241.3750\n",
      "Epoch 35/100\n",
      "200/200 [==============================] - 4s 22ms/step - loss: 114903638016.0000 - mae: 251697.3594 - val_loss: 178967609344.0000 - val_mae: 317157.4062\n",
      "Epoch 36/100\n",
      "200/200 [==============================] - 4s 22ms/step - loss: 113729159168.0000 - mae: 249611.9844 - val_loss: 171466620928.0000 - val_mae: 309589.1875\n",
      "Epoch 37/100\n",
      "200/200 [==============================] - 4s 22ms/step - loss: 114403860480.0000 - mae: 251072.1875 - val_loss: 138211885056.0000 - val_mae: 273706.1250\n",
      "Epoch 38/100\n",
      "200/200 [==============================] - 4s 22ms/step - loss: 111190073344.0000 - mae: 245621.8125 - val_loss: 143524659200.0000 - val_mae: 279456.2500\n",
      "Epoch 39/100\n",
      "200/200 [==============================] - 4s 22ms/step - loss: 110881333248.0000 - mae: 247635.0469 - val_loss: 141195493376.0000 - val_mae: 277336.5312\n",
      "Epoch 40/100\n",
      "200/200 [==============================] - 4s 22ms/step - loss: 108557737984.0000 - mae: 246612.5000 - val_loss: 135382138880.0000 - val_mae: 271142.5625\n",
      "Epoch 41/100\n",
      "200/200 [==============================] - 4s 21ms/step - loss: 109095780352.0000 - mae: 245378.3125 - val_loss: 158505418752.0000 - val_mae: 297171.3750\n",
      "Epoch 42/100\n",
      "200/200 [==============================] - 4s 22ms/step - loss: 107958468608.0000 - mae: 246274.1250 - val_loss: 161899724800.0000 - val_mae: 301577.4062\n",
      "Epoch 43/100\n",
      "200/200 [==============================] - 4s 22ms/step - loss: 102270910464.0000 - mae: 239577.2188 - val_loss: 145869586432.0000 - val_mae: 284443.6875\n",
      "Epoch 44/100\n",
      "200/200 [==============================] - 4s 21ms/step - loss: 105600360448.0000 - mae: 242598.9375 - val_loss: 149486632960.0000 - val_mae: 288556.3750\n",
      "Epoch 45/100\n",
      "200/200 [==============================] - 4s 21ms/step - loss: 101318213632.0000 - mae: 238758.9844 - val_loss: 128080887808.0000 - val_mae: 266394.5625\n",
      "Epoch 46/100\n",
      "200/200 [==============================] - 4s 21ms/step - loss: 97623326720.0000 - mae: 233435.2969 - val_loss: 170941825024.0000 - val_mae: 313908.6250\n",
      "Epoch 47/100\n",
      "200/200 [==============================] - 4s 21ms/step - loss: 92901367808.0000 - mae: 227424.1250 - val_loss: 131471982592.0000 - val_mae: 270345.7188\n",
      "Epoch 48/100\n",
      "200/200 [==============================] - 4s 21ms/step - loss: 87300710400.0000 - mae: 221117.1875 - val_loss: 143203008512.0000 - val_mae: 283133.6875\n",
      "Epoch 49/100\n",
      "200/200 [==============================] - 4s 22ms/step - loss: 88450244608.0000 - mae: 224564.7344 - val_loss: 138387636224.0000 - val_mae: 276859.6250\n",
      "Epoch 50/100\n",
      "200/200 [==============================] - 4s 21ms/step - loss: 84310876160.0000 - mae: 217973.7656 - val_loss: 123619672064.0000 - val_mae: 258940.3594\n",
      "Epoch 51/100\n",
      "200/200 [==============================] - 4s 21ms/step - loss: 78656651264.0000 - mae: 209365.5156 - val_loss: 129414791168.0000 - val_mae: 265153.0312\n",
      "Epoch 52/100\n",
      "200/200 [==============================] - 4s 22ms/step - loss: 72513642496.0000 - mae: 201975.9375 - val_loss: 136918458368.0000 - val_mae: 273342.1875\n",
      "Epoch 53/100\n",
      "200/200 [==============================] - 4s 21ms/step - loss: 71170752512.0000 - mae: 200061.5938 - val_loss: 125410402304.0000 - val_mae: 259146.7812\n",
      "Epoch 54/100\n",
      "200/200 [==============================] - 4s 21ms/step - loss: 69805924352.0000 - mae: 197325.4531 - val_loss: 139917574144.0000 - val_mae: 276225.7500\n",
      "Epoch 55/100\n",
      "200/200 [==============================] - 4s 21ms/step - loss: 64552505344.0000 - mae: 188976.5469 - val_loss: 126781497344.0000 - val_mae: 260590.9375\n",
      "Epoch 56/100\n",
      "200/200 [==============================] - 4s 22ms/step - loss: 64155967488.0000 - mae: 189651.0469 - val_loss: 132868046848.0000 - val_mae: 267627.7500\n",
      "Epoch 57/100\n",
      "200/200 [==============================] - 4s 21ms/step - loss: 60144697344.0000 - mae: 185766.7812 - val_loss: 136293531648.0000 - val_mae: 271016.8125\n",
      "Epoch 58/100\n",
      "200/200 [==============================] - 5s 26ms/step - loss: 56674013184.0000 - mae: 178706.4375 - val_loss: 122840899584.0000 - val_mae: 253212.2969\n",
      "Epoch 59/100\n",
      "200/200 [==============================] - 5s 26ms/step - loss: 52621402112.0000 - mae: 173167.2969 - val_loss: 132723572736.0000 - val_mae: 266596.8125\n",
      "Epoch 60/100\n",
      "200/200 [==============================] - 5s 26ms/step - loss: 51223486464.0000 - mae: 169693.0469 - val_loss: 150081699840.0000 - val_mae: 288342.5312\n",
      "Epoch 61/100\n",
      "200/200 [==============================] - 5s 26ms/step - loss: 48176697344.0000 - mae: 163718.9375 - val_loss: 126879678464.0000 - val_mae: 256054.8750\n",
      "Epoch 62/100\n",
      "200/200 [==============================] - 5s 25ms/step - loss: 48869953536.0000 - mae: 164369.0781 - val_loss: 136515092480.0000 - val_mae: 270025.9062\n",
      "Epoch 63/100\n",
      "200/200 [==============================] - 5s 23ms/step - loss: 43964342272.0000 - mae: 156683.9531 - val_loss: 140258803712.0000 - val_mae: 273765.1875\n",
      "Epoch 64/100\n",
      "200/200 [==============================] - 5s 23ms/step - loss: 45829062656.0000 - mae: 159078.5625 - val_loss: 129808023552.0000 - val_mae: 259561.0000\n",
      "Epoch 65/100\n",
      "200/200 [==============================] - 5s 25ms/step - loss: 40085659648.0000 - mae: 149282.6406 - val_loss: 134149431296.0000 - val_mae: 263628.0938\n",
      "Epoch 66/100\n",
      "200/200 [==============================] - 5s 25ms/step - loss: 42751750144.0000 - mae: 154019.5156 - val_loss: 122767048704.0000 - val_mae: 247768.4219\n",
      "Epoch 67/100\n",
      "200/200 [==============================] - 5s 25ms/step - loss: 39224705024.0000 - mae: 147421.2656 - val_loss: 132487741440.0000 - val_mae: 262907.1875\n",
      "Epoch 68/100\n",
      "200/200 [==============================] - 5s 23ms/step - loss: 37753782272.0000 - mae: 144392.8750 - val_loss: 126546706432.0000 - val_mae: 252575.1250\n",
      "Epoch 69/100\n",
      "200/200 [==============================] - 5s 25ms/step - loss: 40900730880.0000 - mae: 148464.9062 - val_loss: 126138998784.0000 - val_mae: 251270.9219\n",
      "Epoch 70/100\n",
      "200/200 [==============================] - 5s 25ms/step - loss: 36027502592.0000 - mae: 140138.2656 - val_loss: 140145000448.0000 - val_mae: 269838.7812\n",
      "Epoch 71/100\n",
      "200/200 [==============================] - 5s 23ms/step - loss: 34280429568.0000 - mae: 136300.9375 - val_loss: 128444563456.0000 - val_mae: 253901.9844\n",
      "Epoch 72/100\n",
      "200/200 [==============================] - 4s 22ms/step - loss: 33012639744.0000 - mae: 136171.5156 - val_loss: 142223917056.0000 - val_mae: 272315.1875\n",
      "Epoch 73/100\n",
      "200/200 [==============================] - 4s 22ms/step - loss: 32309481472.0000 - mae: 133424.5625 - val_loss: 145123229696.0000 - val_mae: 276018.6250\n",
      "Epoch 74/100\n",
      "200/200 [==============================] - 5s 23ms/step - loss: 32081559552.0000 - mae: 132622.7344 - val_loss: 125763690496.0000 - val_mae: 250606.2812\n",
      "Epoch 75/100\n",
      "200/200 [==============================] - 4s 22ms/step - loss: 31601696768.0000 - mae: 131087.9531 - val_loss: 141763428352.0000 - val_mae: 273704.5000\n",
      "Epoch 76/100\n",
      "200/200 [==============================] - 5s 23ms/step - loss: 30542929920.0000 - mae: 129055.2734 - val_loss: 135494639616.0000 - val_mae: 264822.6562\n",
      "Epoch 77/100\n",
      "200/200 [==============================] - 4s 22ms/step - loss: 32024168448.0000 - mae: 129789.9688 - val_loss: 136960065536.0000 - val_mae: 266489.0000\n",
      "Epoch 78/100\n",
      "200/200 [==============================] - 4s 21ms/step - loss: 28855379968.0000 - mae: 124856.4375 - val_loss: 146064408576.0000 - val_mae: 277171.2500\n",
      "Epoch 79/100\n",
      "200/200 [==============================] - 4s 21ms/step - loss: 29765711872.0000 - mae: 126842.2188 - val_loss: 147797327872.0000 - val_mae: 281192.3438\n",
      "Epoch 80/100\n",
      "200/200 [==============================] - 4s 21ms/step - loss: 28387911680.0000 - mae: 123761.8828 - val_loss: 132113203200.0000 - val_mae: 258468.5469\n",
      "Epoch 81/100\n",
      "200/200 [==============================] - 4s 21ms/step - loss: 28136083456.0000 - mae: 122373.8125 - val_loss: 140229672960.0000 - val_mae: 267575.0000\n",
      "Epoch 82/100\n",
      "200/200 [==============================] - 4s 21ms/step - loss: 29344501760.0000 - mae: 123297.7109 - val_loss: 141302677504.0000 - val_mae: 270103.5312\n",
      "Epoch 83/100\n",
      "200/200 [==============================] - 4s 21ms/step - loss: 28942157824.0000 - mae: 121919.4062 - val_loss: 146514706432.0000 - val_mae: 276302.5625\n",
      "Epoch 84/100\n",
      "200/200 [==============================] - 4s 21ms/step - loss: 25767743488.0000 - mae: 118699.8672 - val_loss: 152769134592.0000 - val_mae: 284649.3750\n",
      "Epoch 85/100\n",
      "200/200 [==============================] - 4s 21ms/step - loss: 24962080768.0000 - mae: 114038.7969 - val_loss: 151002447872.0000 - val_mae: 282789.6875\n",
      "Epoch 86/100\n",
      "200/200 [==============================] - 4s 22ms/step - loss: 24826759168.0000 - mae: 115241.9062 - val_loss: 142342717440.0000 - val_mae: 271792.1875\n",
      "Epoch 87/100\n",
      "200/200 [==============================] - 4s 22ms/step - loss: 25989230592.0000 - mae: 116655.2266 - val_loss: 154733314048.0000 - val_mae: 288128.0312\n",
      "Epoch 88/100\n",
      "200/200 [==============================] - 4s 22ms/step - loss: 27066974208.0000 - mae: 118426.4922 - val_loss: 133895675904.0000 - val_mae: 261915.1562\n",
      "Epoch 89/100\n",
      "200/200 [==============================] - 4s 22ms/step - loss: 24435572736.0000 - mae: 113518.8438 - val_loss: 155917615104.0000 - val_mae: 288068.1562\n",
      "Epoch 90/100\n",
      "200/200 [==============================] - 4s 22ms/step - loss: 26791948288.0000 - mae: 117021.6016 - val_loss: 146418368512.0000 - val_mae: 276892.8438\n",
      "Epoch 91/100\n",
      "200/200 [==============================] - 4s 22ms/step - loss: 24039081984.0000 - mae: 113348.6094 - val_loss: 141857259520.0000 - val_mae: 271275.0938\n",
      "Epoch 92/100\n",
      "200/200 [==============================] - 4s 21ms/step - loss: 25293213696.0000 - mae: 113053.1094 - val_loss: 151177150464.0000 - val_mae: 280905.1250\n",
      "Epoch 93/100\n",
      "200/200 [==============================] - 4s 22ms/step - loss: 24679718912.0000 - mae: 112530.5625 - val_loss: 147462782976.0000 - val_mae: 278867.8750\n",
      "Epoch 94/100\n",
      "200/200 [==============================] - 4s 21ms/step - loss: 23531667456.0000 - mae: 108736.9922 - val_loss: 148546551808.0000 - val_mae: 279102.7188\n",
      "Epoch 95/100\n",
      "200/200 [==============================] - 4s 21ms/step - loss: 23940544512.0000 - mae: 111482.4609 - val_loss: 163444277248.0000 - val_mae: 298211.6875\n",
      "Epoch 96/100\n",
      "200/200 [==============================] - 4s 22ms/step - loss: 23227551744.0000 - mae: 108043.4219 - val_loss: 137805955072.0000 - val_mae: 265515.2500\n",
      "Epoch 97/100\n",
      "200/200 [==============================] - 4s 22ms/step - loss: 24284008448.0000 - mae: 112329.5000 - val_loss: 153119555584.0000 - val_mae: 286112.2188\n",
      "Epoch 98/100\n",
      "200/200 [==============================] - 4s 22ms/step - loss: 23231832064.0000 - mae: 109951.0391 - val_loss: 150587752448.0000 - val_mae: 282074.9062\n",
      "Epoch 99/100\n",
      "200/200 [==============================] - 4s 21ms/step - loss: 21948209152.0000 - mae: 107173.7422 - val_loss: 150945693696.0000 - val_mae: 283547.7500\n",
      "Epoch 100/100\n",
      "200/200 [==============================] - 4s 21ms/step - loss: 23942793216.0000 - mae: 109640.1797 - val_loss: 138807820288.0000 - val_mae: 268490.1562\n"
     ]
    }
   ],
   "source": [
    "history = model.fit(\n",
    "    x=[X_train_images, X_train_tabular], \n",
    "    y=y_train,\n",
    "    validation_data = ([X_test_images, X_test_tabular], y_test),\n",
    "    epochs=100,\n",
    "    batch_size=16\n",
    ")"
   ]
  },
  {
   "cell_type": "code",
   "execution_count": 14,
   "metadata": {},
   "outputs": [
    {
     "data": {
      "image/png": "[encoded data removed]",
      "text/plain": [
       "<Figure size 640x480 with 1 Axes>"
      ]
     },
     "metadata": {},
     "output_type": "display_data"
    }
   ],
   "source": [
    "import matplotlib.pyplot as plt\n",
    "\n",
    "plt.plot(history.history['loss'], label='Training Loss')\n",
    "plt.plot(history.history['val_loss'], label='Validation Loss')\n",
    "plt.title('Loss per Epoch')\n",
    "plt.xlabel('Epochs')\n",
    "plt.ylabel('Loss')\n",
    "plt.legend()\n",
    "plt.show()"
   ]
  },
  {
   "cell_type": "code",
   "execution_count": 15,
   "metadata": {},
   "outputs": [
    {
     "name": "stdout",
     "output_type": "stream",
     "text": [
      "25/25 [==============================] - 1s 11ms/step - loss: 138807803904.0000 - mae: 268490.2188\n",
      "Test Loss: 138807803904.0, Test MAE: 268490.21875\n"
     ]
    },
    {
     "data": {
      "text/plain": [
       "[138807803904.0, 268490.21875]"
      ]
     },
     "execution_count": 15,
     "metadata": {},
     "output_type": "execute_result"
    }
   ],
   "source": [
    "results = model.evaluate([X_test_images, X_test_tabular], y_test)\n",
    "print(f\"Test Loss: {results[0]}, Test MAE: {results[1]}\")\n",
    "results"
   ]
  },
  {
   "cell_type": "code",
   "execution_count": 16,
   "metadata": {},
   "outputs": [
    {
     "name": "stdout",
     "output_type": "stream",
     "text": [
      "25/25 [==============================] - 1s 10ms/step\n"
     ]
    },
    {
     "data": {
      "text/plain": [
       "0.16338789463043213"
      ]
     },
     "execution_count": 16,
     "metadata": {},
     "output_type": "execute_result"
    }
   ],
   "source": [
    "from sklearn.metrics import r2_score\n",
    "y_pred = model.predict([X_test_images, X_test_tabular])\n",
    "r2_score(y_test, y_pred)\n"
   ]
  }
 ],
 "metadata": {
  "kernelspec": {
   "display_name": "tensorflow",
   "language": "python",
   "name": "python3"
  },
  "language_info": {
   "codemirror_mode": {
    "name": "ipython",
    "version": 3
   },
   "file_extension": ".py",
   "mimetype": "text/x-python",
   "name": "python",
   "nbconvert_exporter": "python",
   "pygments_lexer": "ipython3",
   "version": "3.9.21"
  }
 },
 "nbformat": 4,
 "nbformat_minor": 2
}
